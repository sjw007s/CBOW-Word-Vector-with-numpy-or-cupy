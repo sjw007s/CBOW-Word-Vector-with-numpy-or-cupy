{
 "cells": [
  {
   "cell_type": "code",
   "execution_count": null,
   "metadata": {
    "scrolled": true
   },
   "outputs": [
    {
     "name": "stdout",
     "output_type": "stream",
     "text": [
      "(351353, 10)\n",
      "(351353,)\n",
      "1: full, 2000=>[300] pm:2000x300+300=600300\n",
      "Total parameter count: 600300\n",
      "the number of words and the number of unique words\n",
      "351363 26068\n",
      "loss: 0.6898698\n",
      "loss: 0.69655055\n",
      "0.23553185\n",
      "loss: 0.69183457\n",
      "loss: 0.69458663\n",
      "0.6470144\n",
      "loss: 0.6915876\n",
      "loss: 0.6947844\n",
      "0.8136907\n",
      "loss: 0.69221455\n",
      "loss: 0.69415075\n",
      "0.8824092\n",
      "loss: 0.69227016\n",
      "loss: 0.6941232\n",
      "0.8915476\n",
      "loss: 0.693197\n",
      "loss: 0.6932811\n",
      "0.8977133\n",
      "loss: 0.6931995\n",
      "loss: 0.6932834\n",
      "0.9039314\n",
      "loss: 0.6932318\n",
      "loss: 0.6932593\n",
      "0.90665156\n",
      "loss: 0.6932442\n",
      "loss: 0.69324857\n",
      "0.9075713\n",
      "loss: 0.693243\n",
      "loss: 0.69325006\n",
      "0.9078971\n",
      "loss: 0.6932425\n",
      "loss: 0.6932507\n",
      "0.90801394\n",
      "loss: 0.6932464\n",
      "loss: 0.6932469\n",
      "0.90805644\n"
     ]
    }
   ],
   "source": [
    "%run ../chap15/NLP.ipynb\n",
    "%run ../chap15/NLP_dataset.ipynb\n",
    "np.random.seed(int(time.time()))\n",
    "#np.random.seed(1)\n",
    "epoch_count=700\n",
    "batch_size=2500\n",
    "learning_rate=0.005\n",
    "learning_decrease=1\n",
    "restore_='result_test.csv'\n",
    "\n",
    "conf1 = [['full', {'width':300}]]\n",
    "for i in range(1,2,1):\n",
    "    restore_temp=restore_[:-4]+str(i)+restore_[-4:]\n",
    "    vsm1 = NLP('vsm1', \"dsf\", conf1,JJ=1/i,word_vector_dimension=200, window_size=5,negative=1,load=0)\n",
    "    vsm1.train(epoch_count=epoch_count, batch_size=batch_size, \n",
    "                            learning_rate=learning_rate,learning_decrease=learning_decrease,restore=restore_temp, name=\"training_text\" )\n"
   ]
  }
 ],
 "metadata": {
  "kernelspec": {
   "display_name": "Python 3",
   "language": "python",
   "name": "python3"
  },
  "language_info": {
   "codemirror_mode": {
    "name": "ipython",
    "version": 3
   },
   "file_extension": ".py",
   "mimetype": "text/x-python",
   "name": "python",
   "nbconvert_exporter": "python",
   "pygments_lexer": "ipython3",
   "version": "3.7.4"
  }
 },
 "nbformat": 4,
 "nbformat_minor": 2
}
